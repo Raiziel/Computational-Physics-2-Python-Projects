{
 "cells": [
  {
   "cell_type": "code",
   "execution_count": 64,
   "metadata": {},
   "outputs": [],
   "source": [
    "import matplotlib.pyplot as plt\n",
    "import numpy as np\n",
    "\n",
    "\n"
   ]
  },
  {
   "cell_type": "code",
   "execution_count": 178,
   "metadata": {},
   "outputs": [
    {
     "name": "stdout",
     "output_type": "stream",
     "text": [
      "[0.0, 0.0]\n"
     ]
    }
   ],
   "source": [
    "# Function definition and initial value initalization \n",
    "def F(x,f):\n",
    "    f[0]=x[0]*x[0]+x[0]*x[1]-10.\n",
    "    f[1]=x[1]+3.*x[0]*x[1]*x[1]-57.\n",
    "    \n",
    "    f1 = f[0]\n",
    "    f2 = f[1]\n",
    "    return f1,f2\n"
   ]
  },
  {
   "cell_type": "code",
   "execution_count": 160,
   "metadata": {},
   "outputs": [],
   "source": [
    "# Function determines the partials of f1 and f2\n",
    "def Partial(x):\n",
    "    a = 2*x[0] + x[1]\n",
    "    b = x[0]\n",
    "    c = 6*x[1]\n",
    "    d = 1 + 3*(np.square(x[0]))\n",
    "    return a,b,c,d"
   ]
  },
  {
   "cell_type": "code",
   "execution_count": 161,
   "metadata": {},
   "outputs": [],
   "source": [
    "# Function determines dx1 and dx2 of f1 and f2\n",
    "def Delta(x):\n",
    "    a,b,c,d = Partial(x)\n",
    "    f1,f2 = F(x,f)\n",
    "    dx1 = (b*f2 - d*f1)/(a*d-b*c)\n",
    "    dx2 = (c*f1-a*f2)/(a*d-b*c)\n",
    "    return dx1,dx2"
   ]
  },
  {
   "cell_type": "code",
   "execution_count": 233,
   "metadata": {},
   "outputs": [],
   "source": [
    "def newtonraphson(x, Nmax, eps):\n",
    "    for i in range (1,Nmax+1):\n",
    "        dx1, dx2 = Delta(x)\n",
    "        f1,f2 = F(x,f)\n",
    "        x[0] = x[0]+dx1\n",
    "        x[1] = x[1]+dx2\n",
    "        if abs(f1) < eps and abs(f2) < eps:\n",
    "             print(\"Root is at\",x,\" after \",i,\" iterations, with a precision of \",abs(f1),\",\",abs(f2))\n",
    "             break\n",
    "        "
   ]
  },
  {
   "cell_type": "code",
   "execution_count": 234,
   "metadata": {},
   "outputs": [
    {
     "name": "stdout",
     "output_type": "stream",
     "text": [
      "Root is at [2.0, 3.0]  after  1  iterations, with a precision of  0.0 , 0.0\n"
     ]
    }
   ],
   "source": [
    "x=[2.,3]\n",
    "f =[0,0]\n",
    "eps = 1.e-16\n",
    "Nmax = 30\n",
    "F(x,f)\n",
    "Partial(x)\n",
    "Delta(x)\n",
    "newtonraphson(x,Nmax,eps)"
   ]
  },
  {
   "cell_type": "code",
   "execution_count": null,
   "metadata": {},
   "outputs": [],
   "source": []
  }
 ],
 "metadata": {
  "kernelspec": {
   "display_name": "Python 3",
   "language": "python",
   "name": "python3"
  },
  "language_info": {
   "codemirror_mode": {
    "name": "ipython",
    "version": 3
   },
   "file_extension": ".py",
   "mimetype": "text/x-python",
   "name": "python",
   "nbconvert_exporter": "python",
   "pygments_lexer": "ipython3",
   "version": "3.7.3"
  }
 },
 "nbformat": 4,
 "nbformat_minor": 2
}
