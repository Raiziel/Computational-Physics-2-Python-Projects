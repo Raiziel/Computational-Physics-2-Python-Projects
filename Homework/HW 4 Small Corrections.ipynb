{
 "cells": [
  {
   "cell_type": "code",
   "execution_count": 1,
   "metadata": {},
   "outputs": [],
   "source": [
    "import matplotlib.pyplot as plt\n",
    "import numpy as np\n",
    "\n",
    "\n"
   ]
  },
  {
   "cell_type": "code",
   "execution_count": 2,
   "metadata": {},
   "outputs": [],
   "source": [
    "# Function definition and initial value initalization \n",
    "def F(x,f):\n",
    "    f[0]=x[0]*x[0]+x[0]*x[1]-10.\n",
    "    f[1]=x[1]+3.*x[0]*x[1]*x[1]-57.\n",
    "    \n",
    "    f1 = f[0]\n",
    "    f2 = f[1]\n",
    "    return f1,f2\n"
   ]
  },
  {
   "cell_type": "code",
   "execution_count": 15,
   "metadata": {},
   "outputs": [],
   "source": [
    "# Function determines the partials of f1 and f2\n",
    "def Partial(x):\n",
    "    a = 2*x[0] + x[1]\n",
    "    b = x[0]\n",
    "    c = 3*x[1]*x[1]\n",
    "    d = 1 + 6*x[0]*x[1]\n",
    "    return a,b,c,d\n"
   ]
  },
  {
   "cell_type": "code",
   "execution_count": 16,
   "metadata": {},
   "outputs": [],
   "source": [
    "# Function determines dx1 and dx2 of f1 and f2\n",
    "def Delta(x):\n",
    "    a,b,c,d = Partial(x)\n",
    "    f1,f2 = F(x,f)\n",
    "    dx1 = (b*f2 - d*f1)/(a*d-b*c)\n",
    "    dx2 = (c*f1-a*f2)/(a*d-b*c)\n",
    "    return dx1,dx2"
   ]
  },
  {
   "cell_type": "code",
   "execution_count": 22,
   "metadata": {},
   "outputs": [],
   "source": [
    "def newtonraphson(x, Nmax, eps):\n",
    "    for i in range (1,Nmax+1):\n",
    "        dx1,dx2=Delta(x)\n",
    "        f1,f2=F(x,f)\n",
    "        x[0] = x[0]+dx1\n",
    "        x[1] = (x[1]+dx2)\n",
    "        if (f1==f2==0):\n",
    "             print(\"Root is at\",x,\" after \",i,\" iterations, with a precision of \",abs(f1),\",\",abs(f2))\n",
    "             break\n",
    "\n",
    "    print (\"F1 = \",f1)\n",
    "    print (\"F2 = \",f2)\n",
    "    print (\"x = \",x)\n",
    "    print (\"Iteration = \",i)\n"
   ]
  },
  {
   "cell_type": "code",
   "execution_count": 23,
   "metadata": {},
   "outputs": [
    {
     "name": "stdout",
     "output_type": "stream",
     "text": [
      "Root is at [2.0, 3.0]  after  7  iterations, with a precision of  0.0 , 0.0\n",
      "F1 =  0.0\n",
      "F2 =  0.0\n",
      "x =  [2.0, 3.0]\n",
      "Iteration =  7\n"
     ]
    }
   ],
   "source": [
    "x=[5.,6]\n",
    "f =[0,0]\n",
    "eps = 1.e-16\n",
    "Nmax = 100\n",
    "F(x,f)\n",
    "Partial(x)\n",
    "Delta(x)\n",
    "newtonraphson(x,Nmax,eps)"
   ]
  },
  {
   "cell_type": "code",
   "execution_count": null,
   "metadata": {},
   "outputs": [],
   "source": []
  }
 ],
 "metadata": {
  "kernelspec": {
   "display_name": "Python 3",
   "language": "python",
   "name": "python3"
  },
  "language_info": {
   "codemirror_mode": {
    "name": "ipython",
    "version": 3
   },
   "file_extension": ".py",
   "mimetype": "text/x-python",
   "name": "python",
   "nbconvert_exporter": "python",
   "pygments_lexer": "ipython3",
   "version": "3.7.3"
  }
 },
 "nbformat": 4,
 "nbformat_minor": 2
}
